{
 "cells": [
  {
   "cell_type": "code",
   "execution_count": 1,
   "metadata": {},
   "outputs": [],
   "source": [
    "import os"
   ]
  },
  {
   "cell_type": "code",
   "execution_count": 2,
   "metadata": {},
   "outputs": [],
   "source": [
    "import cv2\n",
    "import numpy as np\n",
    "import pandas as pd\n",
    "from catboost import CatBoostClassifier\n",
    "from methods import brenner_gradient, laplacian, sobel_variance, tenengrad\n",
    "from sklearn.linear_model import LogisticRegression\n",
    "from sklearn.metrics import precision_score, recall_score\n",
    "from sklearn.model_selection import train_test_split\n",
    "from sklearn.neighbors import KNeighborsClassifier\n",
    "from sklearn.tree import DecisionTreeClassifier"
   ]
  },
  {
   "cell_type": "code",
   "execution_count": 3,
   "metadata": {},
   "outputs": [],
   "source": [
    "FEAT_COLUMNS = [f.__name__ for f in [brenner_gradient, laplacian, sobel_variance, tenengrad]]"
   ]
  },
  {
   "cell_type": "code",
   "execution_count": 4,
   "metadata": {},
   "outputs": [],
   "source": [
    "def extract_frames(video_path: str, output_folder: str, frame_interval: int = 1):\n",
    "    cap = cv2.VideoCapture(f\"{video_path}\")\n",
    "    os.makedirs(f\"{output_folder}\", exist_ok=True)\n",
    "    frame_count = 0\n",
    "    saved_count = 0\n",
    "    if cap.isOpened():\n",
    "        print(\"Video file successfully retrieved\\n\")\n",
    "    else:\n",
    "        print(\"Video file wasn't retrieved properly\\n\")\n",
    "    while True:\n",
    "        ret, frame = cap.read()\n",
    "        if not ret:\n",
    "            break\n",
    "        if frame_count % frame_interval == 0:\n",
    "            cv2.imwrite(f\"{output_folder}/{saved_count:04d}.jpg\", frame)\n",
    "            saved_count += 1\n",
    "        frame_count += 1\n",
    "    cap.release()\n",
    "    print(f\"Extracted {saved_count}/{frame_count} frames to {output_folder}\\n\")"
   ]
  },
  {
   "cell_type": "code",
   "execution_count": 5,
   "metadata": {},
   "outputs": [],
   "source": [
    "def compute_features(image: np.ndarray):\n",
    "    gray = cv2.cvtColor(image, cv2.COLOR_BGR2GRAY)  # Convert to grayscale\n",
    "    return [\n",
    "        brenner_gradient(gray),\n",
    "        sobel_variance(gray),\n",
    "        tenengrad(gray),\n",
    "        laplacian(gray),\n",
    "    ]"
   ]
  },
  {
   "cell_type": "code",
   "execution_count": 6,
   "metadata": {},
   "outputs": [],
   "source": [
    "def create_dataframe(image_folder: str):\n",
    "    features = []\n",
    "    files = [f for f in os.listdir(image_folder) if f.endswith(\".jpg\")]\n",
    "    files.sort()\n",
    "    for file in files:\n",
    "        image = cv2.imread(f\"{image_folder}/{file}\")\n",
    "        features.append([file] + compute_features(image))\n",
    "    return pd.DataFrame(features, columns=[\"file\"] + FEAT_COLUMNS)"
   ]
  },
  {
   "cell_type": "code",
   "execution_count": 7,
   "metadata": {},
   "outputs": [],
   "source": [
    "def label_dataframe(df: pd.DataFrame, image_folder: str):\n",
    "    files = [f for f in os.listdir(image_folder) if f.endswith(\".jpg\")]\n",
    "    df[\"label\"] = (df[\"file\"].isin(files)).astype(int)\n",
    "    return df"
   ]
  },
  {
   "cell_type": "code",
   "execution_count": 8,
   "metadata": {},
   "outputs": [],
   "source": [
    "def train_models(X_train, y_train):\n",
    "    models = {\n",
    "        \"Logistic Regression\": LogisticRegression(),\n",
    "        \"KNN\": KNeighborsClassifier(),\n",
    "        \"Decision Tree\": DecisionTreeClassifier(),\n",
    "        \"CatBoost\": CatBoostClassifier(verbose=0),\n",
    "    }\n",
    "    for name, model in models.items():\n",
    "        model.fit(X_train, y_train)\n",
    "    return models"
   ]
  },
  {
   "cell_type": "code",
   "execution_count": 9,
   "metadata": {},
   "outputs": [],
   "source": [
    "def evaluate(models: dict, X_test, y_test):\n",
    "    results = []\n",
    "    for name, model in models.items():\n",
    "        y_pred = model.predict(X_test)\n",
    "        results.append(\n",
    "            {\"Model\": name, \"Precision\": precision_score(y_test, y_pred), \"Recall\": recall_score(y_test, y_pred)}\n",
    "        )\n",
    "    return pd.DataFrame(results)"
   ]
  },
  {
   "cell_type": "code",
   "execution_count": 10,
   "metadata": {},
   "outputs": [],
   "source": [
    "def predict_image(image_path: str, models: dict):\n",
    "    results = []\n",
    "    image = cv2.imread(image_path)\n",
    "    features = pd.DataFrame([compute_features(image)], columns=FEAT_COLUMNS)\n",
    "    for name, model in models.items():\n",
    "        results.append({\"Model\": name, \"Prediction\": model.predict(features)[0]})\n",
    "    return pd.DataFrame(results)"
   ]
  },
  {
   "cell_type": "code",
   "execution_count": 13,
   "metadata": {},
   "outputs": [],
   "source": [
    "video_path = \"../autofocus1.mp4\"\n",
    "all_folder = \"../frames/all/\"\n",
    "focus_folder = \"../frames/focus/\"\n",
    "frame_interval = 7\n",
    "pd.set_option(\"display.max_rows\", None)"
   ]
  },
  {
   "cell_type": "code",
   "execution_count": 42,
   "metadata": {},
   "outputs": [
    {
     "name": "stdout",
     "output_type": "stream",
     "text": [
      "Video file successfully retrieved\n",
      "\n",
      "Extracted 80/560 frames to ../frames/all/\n",
      "\n",
      "Data\n",
      "        file  brenner_gradient    laplacian  sobel_variance  tenengrad  label\n",
      "0   0000.jpg           4047854  6488.211311        1.855450   0.755885      0\n",
      "1   0001.jpg           4686576  6511.141308        1.959006   0.795287      0\n",
      "2   0002.jpg           4083646  6496.856189        1.866986   0.786307      0\n",
      "3   0003.jpg           3471114  6430.889991        1.756883   0.801344      0\n",
      "4   0004.jpg           6984812  6563.810571        2.185118   0.804965      0\n",
      "5   0005.jpg           4442862  6507.917825        1.932746   0.793810      0\n",
      "6   0006.jpg           3797936  6470.765084        1.831901   0.803371      0\n",
      "7   0007.jpg           3930116  6473.634143        1.842598   0.790361      0\n",
      "8   0008.jpg           4990320  6522.070613        2.004973   0.808378      0\n",
      "9   0009.jpg           3685554  6459.222045        1.801407   0.800293      0\n",
      "10  0010.jpg           5172094  6524.988100        2.021082   0.803273      0\n",
      "11  0011.jpg           8291088  6596.433879        2.252743   0.774559      0\n",
      "12  0012.jpg           3980520  6483.366020        1.868048   0.789819      0\n",
      "13  0013.jpg           3434196  6422.295342        1.751678   0.815138      0\n",
      "14  0014.jpg           4024126  6481.790091        1.860291   0.793473      0\n",
      "15  0015.jpg           5124716  6519.610063        2.032471   0.828303      0\n",
      "16  0016.jpg           6732436  6554.770766        2.195531   0.841152      0\n",
      "17  0017.jpg           3592106  6452.965474        1.775708   0.788655      0\n",
      "18  0018.jpg           4256478  6488.035706        1.903576   0.794743      0\n",
      "19  0019.jpg          19596604  6677.605446        2.806247   0.825965      1\n",
      "20  0020.jpg          12333878  6628.896002        2.517155   0.834405      1\n",
      "21  0021.jpg           4820758  6524.304407        1.973807   0.790219      0\n",
      "22  0022.jpg           4753478  6519.344614        1.969450   0.802601      0\n",
      "23  0023.jpg           4454584  6506.802639        1.935726   0.806835      0\n",
      "24  0024.jpg           5481926  6540.315186        2.039317   0.783477      0\n",
      "25  0025.jpg           4716124  6518.344150        1.961002   0.793768      0\n",
      "26  0026.jpg           6649810  6559.735429        2.155332   0.811571      0\n",
      "27  0027.jpg           4646448  6519.635930        1.950691   0.783825      0\n",
      "28  0028.jpg           4386044  6503.505840        1.911290   0.786891      0\n",
      "29  0029.jpg           3547696  6447.991202        1.775182   0.795131      0\n",
      "30  0030.jpg           3533084  6434.759042        1.778727   0.812927      0\n",
      "31  0031.jpg           8426458  6593.469183        2.263926   0.780746      0\n",
      "32  0032.jpg           6216626  6562.694148        2.109558   0.781069      0\n",
      "33  0033.jpg           5457864  6536.418833        2.059226   0.811265      0\n",
      "34  0034.jpg          16249346  6655.016447        2.650279   0.836425      1\n",
      "35  0035.jpg          10864378  6622.157504        2.396675   0.814933      0\n",
      "36  0036.jpg           5109130  6532.693678        2.026937   0.806431      0\n",
      "37  0037.jpg           6508444  6562.083989        2.159677   0.802352      0\n",
      "38  0038.jpg           9437716  6607.880225        2.318497   0.781929      0\n",
      "39  0039.jpg           5926016  6555.094004        2.092873   0.790136      0\n",
      "40  0040.jpg           3974990  6480.274340        1.872658   0.811825      0\n",
      "41  0041.jpg           4497642  6499.039231        1.957107   0.822903      0\n",
      "42  0042.jpg           3624954  6454.805770        1.788676   0.795347      0\n",
      "43  0043.jpg           7559830  6572.066406        2.233667   0.807842      0\n",
      "44  0044.jpg           4341048  6498.193577        1.920765   0.803656      0\n",
      "45  0045.jpg           8769324  6592.057515        2.283488   0.793027      0\n",
      "46  0046.jpg           4108368  6490.809293        1.891270   0.806793      0\n",
      "47  0047.jpg           4394862  6497.870928        1.942684   0.820955      0\n",
      "48  0048.jpg           8008882  6587.610837        2.233473   0.777545      0\n",
      "49  0049.jpg          10298960  6610.226894        2.372710   0.809299      1\n",
      "50  0050.jpg           4653522  6516.034635        1.955256   0.791308      0\n",
      "51  0051.jpg           3165238  6381.709906        1.658711   0.782303      0\n",
      "52  0052.jpg           3235268  6395.623471        1.674067   0.773041      0\n",
      "53  0053.jpg           4880748  6513.953447        2.012958   0.820798      0\n",
      "54  0054.jpg           4126586  6485.118490        1.900007   0.816538      0\n",
      "55  0055.jpg           4221768  6490.318583        1.889170   0.783583      0\n",
      "56  0056.jpg          17639586  6660.945401        2.714509   0.850609      1\n",
      "57  0057.jpg          21284146  6733.960583        3.152044   0.973377      1\n",
      "58  0058.jpg           9784492  6608.094592        2.380556   0.811586      0\n",
      "59  0059.jpg           5650698  6546.300188        2.060318   0.796688      0\n",
      "60  0060.jpg          17192398  6663.161743        2.670534   0.794226      1\n",
      "61  0061.jpg          12038200  6629.917039        2.473128   0.828179      1\n",
      "62  0062.jpg           8164922  6588.835313        2.249837   0.784145      0\n",
      "63  0063.jpg           7441520  6865.552343        3.580330  55.587930      1\n",
      "64  0064.jpg           7265976  6880.129734        3.712570  61.615087      1\n",
      "65  0065.jpg           7254968  6879.961138        3.708803  61.643397      1\n",
      "66  0066.jpg           7326654  6883.477769        3.716814  61.473801      1\n",
      "67  0067.jpg           7332700  6883.492312        3.717648  61.498390      1\n",
      "68  0068.jpg           7326458  6883.522890        3.717347  61.500525      1\n",
      "69  0069.jpg           7323070  6883.531539        3.717264  61.498002      1\n",
      "70  0070.jpg           7323378  6883.531886        3.717325  61.498179      1\n",
      "71  0071.jpg           7325040  6883.516989        3.717925  61.499532      1\n",
      "72  0072.jpg           7316828  6883.901940        3.711374  61.195892      1\n",
      "73  0073.jpg           7322696  6883.532008        3.717261  61.506904      1\n",
      "74  0074.jpg           7322874  6883.533845        3.717345  61.506885      1\n",
      "75  0075.jpg           7324640  6883.514801        3.717971  61.508449      1\n",
      "76  0076.jpg           7322694  6883.536052        3.717383  61.507130      1\n",
      "77  0077.jpg           7322654  6883.531913        3.717331  61.507076      1\n",
      "78  0078.jpg           7322960  6883.531690        3.717542  61.507146      1\n",
      "79  0079.jpg           7325178  6883.505331        3.718096  61.508780      1\n",
      "\n"
     ]
    }
   ],
   "source": [
    "# Extract-label\n",
    "extract_frames(video_path, all_folder, frame_interval)\n",
    "df = create_dataframe(all_folder)\n",
    "df = label_dataframe(df, focus_folder)\n",
    "print(f\"Data\\n{df}\\n\")"
   ]
  },
  {
   "cell_type": "code",
   "execution_count": 47,
   "metadata": {},
   "outputs": [],
   "source": [
    "# Split\n",
    "X = df[FEAT_COLUMNS]\n",
    "y = df[\"label\"]\n",
    "X_train, X_test, y_train, y_test = train_test_split(X, y, test_size=0.2)"
   ]
  },
  {
   "cell_type": "code",
   "execution_count": 48,
   "metadata": {},
   "outputs": [
    {
     "name": "stdout",
     "output_type": "stream",
     "text": [
      "Train results\n",
      "                 Model  Precision    Recall\n",
      "0  Logistic Regression        1.0  0.833333\n",
      "1                  KNN        1.0  0.833333\n",
      "2        Decision Tree        1.0  0.833333\n",
      "3             CatBoost        1.0  0.833333\n",
      "\n"
     ]
    }
   ],
   "source": [
    "# Train-evaluate\n",
    "models = train_models(X_train, y_train)\n",
    "results = evaluate(models, X_test, y_test)\n",
    "print(f\"Train results\\n{results}\\n\")"
   ]
  },
  {
   "cell_type": "code",
   "execution_count": 49,
   "metadata": {},
   "outputs": [
    {
     "name": "stdout",
     "output_type": "stream",
     "text": [
      "Prediction\n",
      "                 Model  Prediction\n",
      "0  Logistic Regression           1\n",
      "1                  KNN           1\n",
      "2        Decision Tree           0\n",
      "3             CatBoost           1\n",
      "\n"
     ]
    }
   ],
   "source": [
    "# Predict\n",
    "results = predict_image(\"../maxim-bogdanov-wjAR4jo979Y-unsplash.jpg\", models)\n",
    "print(f\"Prediction\\n{results}\\n\")"
   ]
  },
  {
   "cell_type": "code",
   "execution_count": null,
   "metadata": {},
   "outputs": [],
   "source": []
  }
 ],
 "metadata": {
  "kernelspec": {
   "display_name": "dirtycam-TPTFYq1z-py3.12",
   "language": "python",
   "name": "python3"
  },
  "language_info": {
   "codemirror_mode": {
    "name": "ipython",
    "version": 3
   },
   "file_extension": ".py",
   "mimetype": "text/x-python",
   "name": "python",
   "nbconvert_exporter": "python",
   "pygments_lexer": "ipython3",
   "version": "3.12.3"
  }
 },
 "nbformat": 4,
 "nbformat_minor": 2
}
